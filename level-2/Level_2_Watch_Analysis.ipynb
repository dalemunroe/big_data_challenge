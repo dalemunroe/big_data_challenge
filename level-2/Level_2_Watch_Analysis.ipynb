{
  "cells": [
    {
      "cell_type": "code",
      "execution_count": 1,
      "metadata": {
        "colab": {
          "base_uri": "https://localhost:8080/"
        },
        "id": "-8eFW_wl1n39",
        "outputId": "7d49fd55-2093-4cbc-9aa6-1897e4128d64"
      },
      "outputs": [
        {
          "name": "stdout",
          "output_type": "stream",
          "text": [
            "\r0% [Working]\r            \rGet:1 https://cloud.r-project.org/bin/linux/ubuntu bionic-cran40/ InRelease [3,626 B]\n",
            "\r0% [Connecting to archive.ubuntu.com] [Connecting to security.ubuntu.com] [1 In\r0% [Connecting to archive.ubuntu.com] [Connecting to security.ubuntu.com] [Conn\r0% [1 InRelease gpgv 3,626 B] [Connecting to archive.ubuntu.com] [Connecting to\r                                                                               \rGet:2 http://security.ubuntu.com/ubuntu bionic-security InRelease [88.7 kB]\n",
            "Get:3 http://ppa.launchpad.net/c2d4u.team/c2d4u4.0+/ubuntu bionic InRelease [15.9 kB]\n",
            "Ign:4 https://developer.download.nvidia.com/compute/machine-learning/repos/ubuntu1804/x86_64  InRelease\n",
            "Get:5 https://developer.download.nvidia.com/compute/cuda/repos/ubuntu1804/x86_64  InRelease [1,581 B]\n",
            "Hit:6 http://archive.ubuntu.com/ubuntu bionic InRelease\n",
            "Hit:7 https://developer.download.nvidia.com/compute/machine-learning/repos/ubuntu1804/x86_64  Release\n",
            "Get:8 http://archive.ubuntu.com/ubuntu bionic-updates InRelease [88.7 kB]\n",
            "Hit:9 http://ppa.launchpad.net/cran/libgit2/ubuntu bionic InRelease\n",
            "Hit:10 http://ppa.launchpad.net/deadsnakes/ppa/ubuntu bionic InRelease\n",
            "Get:11 http://archive.ubuntu.com/ubuntu bionic-backports InRelease [83.3 kB]\n",
            "Get:12 http://ppa.launchpad.net/graphics-drivers/ppa/ubuntu bionic InRelease [21.3 kB]\n",
            "Get:13 http://security.ubuntu.com/ubuntu bionic-security/multiverse amd64 Packages [22.9 kB]\n",
            "Get:14 http://security.ubuntu.com/ubuntu bionic-security/main amd64 Packages [3,095 kB]\n",
            "Get:15 http://security.ubuntu.com/ubuntu bionic-security/universe amd64 Packages [1,567 kB]\n",
            "Get:16 http://security.ubuntu.com/ubuntu bionic-security/restricted amd64 Packages [1,307 kB]\n",
            "Get:17 http://ppa.launchpad.net/c2d4u.team/c2d4u4.0+/ubuntu bionic/main Sources [2,234 kB]\n",
            "Get:18 https://developer.download.nvidia.com/compute/cuda/repos/ubuntu1804/x86_64  Packages [1,056 kB]\n",
            "Get:19 http://ppa.launchpad.net/c2d4u.team/c2d4u4.0+/ubuntu bionic/main amd64 Packages [1,143 kB]\n",
            "Get:21 http://archive.ubuntu.com/ubuntu bionic-updates/restricted amd64 Packages [1,347 kB]\n",
            "Get:22 http://archive.ubuntu.com/ubuntu bionic-updates/multiverse amd64 Packages [30.0 kB]\n",
            "Get:23 http://archive.ubuntu.com/ubuntu bionic-updates/main amd64 Packages [3,519 kB]\n",
            "Get:24 http://archive.ubuntu.com/ubuntu bionic-updates/universe amd64 Packages [2,342 kB]\n",
            "Get:25 http://ppa.launchpad.net/graphics-drivers/ppa/ubuntu bionic/main amd64 Packages [40.8 kB]\n",
            "Fetched 18.0 MB in 6s (3,248 kB/s)\n",
            "Reading package lists... Done\n"
          ]
        }
      ],
      "source": [
        "# Activate Spark in our Colab notebook.\n",
        "import os\n",
        "# Find the latest version of spark 3.2  from http://www.apache.org/dist/spark/ and enter as the spark version\n",
        "# For example:\n",
        "# spark_version = 'spark-3.2.2'\n",
        "spark_version = 'spark-3.3.1'\n",
        "os.environ['SPARK_VERSION']=spark_version\n",
        "\n",
        "# Install Spark and Java\n",
        "!apt-get update\n",
        "!apt-get install openjdk-11-jdk-headless -qq > /dev/null\n",
        "!wget -q http://www.apache.org/dist/spark/$SPARK_VERSION/$SPARK_VERSION-bin-hadoop3.tgz\n",
        "!tar xf $SPARK_VERSION-bin-hadoop3.tgz\n",
        "!pip install -q findspark\n",
        "\n",
        "# Set Environment Variables\n",
        "import os\n",
        "os.environ[\"JAVA_HOME\"] = \"/usr/lib/jvm/java-11-openjdk-amd64\"\n",
        "os.environ[\"SPARK_HOME\"] = f\"/content/{spark_version}-bin-hadoop3\"\n",
        "\n",
        "# Start a SparkSession\n",
        "import findspark\n",
        "findspark.init()"
      ]
    },
    {
      "cell_type": "code",
      "execution_count": 2,
      "metadata": {
        "colab": {
          "base_uri": "https://localhost:8080/"
        },
        "id": "BzCrgs0Z1rnw",
        "outputId": "a835f17d-e8e7-49ac-cbb0-34482592eca1"
      },
      "outputs": [
        {
          "name": "stdout",
          "output_type": "stream",
          "text": [
            "--2022-12-06 14:09:18--  https://jdbc.postgresql.org/download/postgresql-42.2.9.jar\n",
            "Resolving jdbc.postgresql.org (jdbc.postgresql.org)... 72.32.157.228, 2001:4800:3e1:1::228\n",
            "Connecting to jdbc.postgresql.org (jdbc.postgresql.org)|72.32.157.228|:443... connected.\n",
            "HTTP request sent, awaiting response... 200 OK\n",
            "Length: 914037 (893K) [application/java-archive]\n",
            "Saving to: ‘postgresql-42.2.9.jar’\n",
            "\n",
            "postgresql-42.2.9.j 100%[===================>] 892.61K  5.02MB/s    in 0.2s    \n",
            "\n",
            "2022-12-06 14:09:18 (5.02 MB/s) - ‘postgresql-42.2.9.jar’ saved [914037/914037]\n",
            "\n"
          ]
        }
      ],
      "source": [
        "# Get postgresql package\n",
        "!wget https://jdbc.postgresql.org/download/postgresql-42.2.9.jar"
      ]
    },
    {
      "cell_type": "code",
      "execution_count": 3,
      "metadata": {
        "id": "0DuBth0V2PR8"
      },
      "outputs": [],
      "source": [
        "# Import Spark and create a SparkSession\n",
        "from pyspark.sql import SparkSession\n",
        "spark = SparkSession.builder.appName(\"BigData-HW-1\").config(\"spark.driver.extraClassPath\",\"/content/postgresql-42.2.9.jar\").getOrCreate()"
      ]
    },
    {
      "cell_type": "markdown",
      "metadata": {
        "id": "D3W2XJVi2CU-"
      },
      "source": [
        "**bold text**# Extract the Amazon Data into Spark DataFrame"
      ]
    },
    {
      "cell_type": "code",
      "execution_count": 4,
      "metadata": {
        "colab": {
          "base_uri": "https://localhost:8080/"
        },
        "id": "Na_stw7b1wfU",
        "outputId": "cd28c505-f987-4740-dda6-326503030931"
      },
      "outputs": [
        {
          "name": "stdout",
          "output_type": "stream",
          "text": [
            "+-----------+-----------+--------------+----------+--------------+--------------------+----------------+-----------+-------------+-----------+----+-----------------+--------------------+--------------------+-------------------+\n",
            "|marketplace|customer_id|     review_id|product_id|product_parent|       product_title|product_category|star_rating|helpful_votes|total_votes|vine|verified_purchase|     review_headline|         review_body|        review_date|\n",
            "+-----------+-----------+--------------+----------+--------------+--------------------+----------------+-----------+-------------+-----------+----+-----------------+--------------------+--------------------+-------------------+\n",
            "|         US|    3653882|R3O9SGZBVQBV76|B00FALQ1ZC|     937001370|Invicta Women's 1...|         Watches|          5|            0|          0|   N|                Y|          Five Stars|Absolutely love t...|2015-01-31 00:08:00|\n",
            "|         US|   14661224| RKH8BNC3L5DLF|B00D3RGO20|     484010722|Kenneth Cole New ...|         Watches|          5|            0|          0|   N|                Y|I love thiswatch ...|I love this watch...|2015-01-31 00:08:00|\n",
            "|         US|   27324930|R2HLE8WKZSU3NL|B00DKYC7TK|     361166390|Ritche 22mm Black...|         Watches|          2|            1|          1|   N|                Y|           Two Stars|           Scratches|2015-01-31 00:08:00|\n",
            "|         US|    7211452|R31U3UH5AZ42LL|B000EQS1JW|     958035625|Citizen Men's BM8...|         Watches|          5|            0|          0|   N|                Y|          Five Stars|It works well on ...|2015-01-31 00:08:00|\n",
            "|         US|   12733322|R2SV659OUJ945Y|B00A6GFD7S|     765328221|Orient ER27009B M...|         Watches|          4|            0|          0|   N|                Y|Beautiful face, b...|Beautiful watch f...|2015-01-31 00:08:00|\n",
            "|         US|    6576411| RA51CP8TR5A2L|B00EYSOSE8|     230493695|Casio Men's GW-94...|         Watches|          5|            0|          0|   N|                Y|       No complaints|i love this watch...|2015-01-31 00:08:00|\n",
            "|         US|   11811565| RB2Q7DLDN6TH6|B00WM0QA3M|     549298279|Fossil Women's ES...|         Watches|          5|            1|          1|   N|                Y|          Five Stars|for my wife and s...|2015-01-31 00:08:00|\n",
            "|         US|   49401598|R2RHFJV0UYBK3Y|B00A4EYBR0|     844009113|INFANTRY Mens Nig...|         Watches|          1|            1|          5|   N|                N|I was about to bu...|I was about to bu...|2015-01-31 00:08:00|\n",
            "|         US|   45925069|R2Z6JOQ94LFHEP|B00MAMPGGE|     263720892|G-Shock Men's Gre...|         Watches|          5|            1|          2|   N|                Y|      Perfect watch!|Watch is perfect....|2015-01-31 00:08:00|\n",
            "|         US|   44751341| RX27XIIWY5JPB|B004LBPB7Q|     124278407|Heiden Quad Watch...|         Watches|          4|            0|          0|   N|                Y|Great quality and...|Great quality and...|2015-01-31 00:08:00|\n",
            "|         US|    9962330|R15C7QEZT0LGZN|B00KGTVGKS|      28017857|Fossil Women's ES...|         Watches|          4|            2|          2|   N|                Y|           Satisfied|The watch was pre...|2015-01-31 00:08:00|\n",
            "|         US|   16097204|R361XSS37V0NCZ|B0039UT5OU|     685450910|Casio General Men...|         Watches|          1|            0|          0|   N|                N|I do not think th...|I bought this wat...|2015-01-31 00:08:00|\n",
            "|         US|   51330346| ROTNLALUAJAUB|B00MPF0XJQ|     767769082|2Tone Gold Silver...|         Watches|          3|            0|          0|   N|                Y|         Three Stars|It is a cheap wat...|2015-01-31 00:08:00|\n",
            "|         US|    4201739|R2DYX7QU6BGOHR|B003P1OHHS|     648595227|Bulova Men's 98B1...|         Watches|          5|            0|          0|   N|                Y|          Five Stars|Heavier than i th...|2015-01-31 00:08:00|\n",
            "|         US|   26339765| RWASY7FKI7QOT|B00R70YEOE|     457338020|Casio - G-Shock -...|         Watches|          5|            2|          3|   N|                Y|  Worth it - love it|Had it for severa...|2015-01-31 00:08:00|\n",
            "|         US|    2692576|R2KKYZIN3CCL21|B000FVE3BG|     824370661|Invicta Men's 332...|         Watches|          5|            0|          0|   N|                Y|This is when diff...|This one is diffe...|2015-01-31 00:08:00|\n",
            "|         US|   44713366|R22H4FGVD5O52O|B008X6JB12|     814431355|Seiko Women's SUT...|         Watches|          4|            1|          1|   N|                Y|Thewatch is attra...|The watch is attr...|2015-01-31 00:08:00|\n",
            "|         US|   32778769|R11UACZERCM4ZY|B0040UOFPW|     187700878|Anne Klein Women'...|         Watches|          5|            0|          0|   N|                Y|          Five Stars|      said my wife..|2015-01-31 00:08:00|\n",
            "|         US|   27258523|R1AT8NQ38UQOL6|B00UR2R5UY|     594315262|Guess U13630G1 Me...|         Watches|          5|            0|          0|   N|                Y|          Five Stars|Nice watch, on ti...|2015-01-31 00:08:00|\n",
            "|         US|   42646538|R2NCZRQGIF1Q75|B00HFF57L0|     520810507|Nixon Men's Geo V...|         Watches|          4|            0|          0|   N|                Y|        Very stylish|Looks great and l...|2015-01-31 00:08:00|\n",
            "+-----------+-----------+--------------+----------+--------------+--------------------+----------------+-----------+-------------+-----------+----+-----------------+--------------------+--------------------+-------------------+\n",
            "only showing top 20 rows\n",
            "\n"
          ]
        }
      ],
      "source": [
        "# Read in the data from an S3 Bucket\n",
        "from pyspark import SparkFiles\n",
        "url = \"https://s3.amazonaws.com/amazon-reviews-pds/tsv/amazon_reviews_us_Watches_v1_00.tsv.gz\"\n",
        "spark.sparkContext.addFile(url)\n",
        "\n",
        "df_watch = spark.read.option('header', 'true').csv(SparkFiles.get(\"amazon_reviews_us_Watches_v1_00.tsv.gz\"), inferSchema=True, sep='\\t', timestampFormat=\"yyyy-mm-dd\")\n",
        "df_watch.show()\n"
      ]
    },
    {
      "cell_type": "code",
      "execution_count": 5,
      "metadata": {
        "colab": {
          "base_uri": "https://localhost:8080/"
        },
        "id": "Cayz-3Q52IM3",
        "outputId": "5ba2461b-0ba4-43fc-cc15-b25f1be98be7"
      },
      "outputs": [
        {
          "data": {
            "text/plain": [
              "960872"
            ]
          },
          "execution_count": 5,
          "metadata": {},
          "output_type": "execute_result"
        }
      ],
      "source": [
        "# Get the number of rows in the DataFrame.\n",
        "df_watch.count()"
      ]
    },
    {
      "cell_type": "code",
      "execution_count": 6,
      "metadata": {
        "colab": {
          "base_uri": "https://localhost:8080/"
        },
        "id": "hyiRgBKhR4pa",
        "outputId": "be0d95c4-7264-439f-f605-c801d97436d8"
      },
      "outputs": [
        {
          "name": "stdout",
          "output_type": "stream",
          "text": [
            "960679\n"
          ]
        }
      ],
      "source": [
        "# Drop null values\n",
        "df_watch = df_watch.dropna()\n",
        "print(df_watch.count())\n"
      ]
    },
    {
      "cell_type": "code",
      "execution_count": 7,
      "metadata": {
        "colab": {
          "base_uri": "https://localhost:8080/"
        },
        "id": "5Wm-3NVgUOgV",
        "outputId": "5bd2396c-7df4-4803-fefb-24232f0ced24"
      },
      "outputs": [
        {
          "data": {
            "text/plain": [
              "960679"
            ]
          },
          "execution_count": 7,
          "metadata": {},
          "output_type": "execute_result"
        }
      ],
      "source": [
        "# Removed duplicate rows\n",
        "df_watch = df_watch.dropDuplicates()\n",
        "df_watch.count()"
      ]
    },
    {
      "cell_type": "markdown",
      "metadata": {
        "id": "C9U0rkGZ2eu7"
      },
      "source": [
        "# Transform the Data"
      ]
    },
    {
      "cell_type": "code",
      "execution_count": 8,
      "metadata": {
        "colab": {
          "base_uri": "https://localhost:8080/"
        },
        "id": "m_lSD8DkSSSb",
        "outputId": "65b8d7d7-b157-4c9f-e1b2-d7bb221ef103"
      },
      "outputs": [
        {
          "name": "stdout",
          "output_type": "stream",
          "text": [
            "root\n",
            " |-- marketplace: string (nullable = true)\n",
            " |-- customer_id: integer (nullable = true)\n",
            " |-- review_id: string (nullable = true)\n",
            " |-- product_id: string (nullable = true)\n",
            " |-- product_parent: integer (nullable = true)\n",
            " |-- product_title: string (nullable = true)\n",
            " |-- product_category: string (nullable = true)\n",
            " |-- star_rating: integer (nullable = true)\n",
            " |-- helpful_votes: integer (nullable = true)\n",
            " |-- total_votes: integer (nullable = true)\n",
            " |-- vine: string (nullable = true)\n",
            " |-- verified_purchase: string (nullable = true)\n",
            " |-- review_headline: string (nullable = true)\n",
            " |-- review_body: string (nullable = true)\n",
            " |-- review_date: timestamp (nullable = true)\n",
            "\n"
          ]
        }
      ],
      "source": [
        "# Print schema\n",
        "df_watch.printSchema()\n"
      ]
    },
    {
      "cell_type": "code",
      "execution_count": 9,
      "metadata": {
        "colab": {
          "base_uri": "https://localhost:8080/"
        },
        "id": "S6C0VTNxvk_y",
        "outputId": "539fe4c2-d416-470e-c0f9-c4ce422b4a16"
      },
      "outputs": [
        {
          "name": "stdout",
          "output_type": "stream",
          "text": [
            "root\n",
            " |-- marketplace: string (nullable = true)\n",
            " |-- customer_id: integer (nullable = true)\n",
            " |-- review_id: string (nullable = true)\n",
            " |-- product_id: string (nullable = true)\n",
            " |-- product_parent: integer (nullable = true)\n",
            " |-- product_title: string (nullable = true)\n",
            " |-- product_category: string (nullable = true)\n",
            " |-- star_rating: integer (nullable = true)\n",
            " |-- helpful_votes: integer (nullable = true)\n",
            " |-- total_votes: integer (nullable = true)\n",
            " |-- vine: string (nullable = true)\n",
            " |-- verified_purchase: string (nullable = true)\n",
            " |-- review_headline: string (nullable = true)\n",
            " |-- review_body: string (nullable = true)\n",
            " |-- review_date: timestamp (nullable = true)\n",
            "\n"
          ]
        }
      ],
      "source": [
        "# Changing datatypes\n",
        "from pyspark.sql.types import TimestampType, IntegerType\n",
        "\n",
        "df_watch = df_watch.withColumn(\"customer_id\", df_watch[\"customer_id\"].cast(IntegerType()))\\\n",
        "       .withColumn(\"product_parent\", df_watch[\"product_parent\"].cast(IntegerType()))\\\n",
        "       .withColumn(\"review_date\", df_watch[\"review_date\"].cast(TimestampType()))\\\n",
        "       .withColumn(\"star_rating\", df_watch[\"star_rating\"].cast(IntegerType()))\\\n",
        "       .withColumn(\"helpful_votes\", df_watch[\"helpful_votes\"].cast(IntegerType()))\\\n",
        "      .withColumn(\"total_votes\", df_watch[\"total_votes\"].cast(IntegerType()))\\\n",
        "\n",
        "df_watch.printSchema()"
      ]
    },
    {
      "cell_type": "markdown",
      "metadata": {
        "id": "9KuXbv774QkS"
      },
      "source": [
        "#Analysis of the Data"
      ]
    },
    {
      "cell_type": "markdown",
      "metadata": {
        "id": "-bleeF9LAYLN"
      },
      "source": [
        "###All Reviews"
      ]
    },
    {
      "cell_type": "code",
      "execution_count": 10,
      "metadata": {
        "colab": {
          "base_uri": "https://localhost:8080/"
        },
        "id": "WuF6rtX44c-d",
        "outputId": "2247068c-aa56-4f9b-d96a-7aa448142665"
      },
      "outputs": [
        {
          "name": "stdout",
          "output_type": "stream",
          "text": [
            "+-------------------+-----------+-----------------+--------------------+-----------+-------------+-----------+----+\n",
            "|        review_date|customer_id|verified_purchase|       product_title|star_rating|helpful_votes|total_votes|vine|\n",
            "+-------------------+-----------+-----------------+--------------------+-----------+-------------+-----------+----+\n",
            "|2014-01-22 00:05:00|   15688375|                Y|Rip Curl Men's A1...|          2|            0|          1|   N|\n",
            "|2014-01-16 00:06:00|   21739087|                Y|Casio Men's Sport...|          5|            0|          0|   N|\n",
            "|2015-01-26 00:02:00|    2501262|                Y|Invicta Men's 901...|          5|            0|          0|   N|\n",
            "|2014-01-30 00:12:00|   16842563|                Y|U.S. Polo Assn. C...|          5|            0|          0|   N|\n",
            "|2009-01-27 00:01:00|   52130705|                N|Invicta Men's 524...|          4|            0|          0|   N|\n",
            "|2014-01-27 00:11:00|   41518340|                Y|Rudiger Men's R20...|          1|            0|          0|   N|\n",
            "|2011-01-02 00:09:00|   48845798|                Y|Invicta Women's 0...|          4|            1|          1|   N|\n",
            "|2012-01-16 00:12:00|   50381801|                Y|Fossil Men's Blue...|          5|            0|          0|   N|\n",
            "|2013-01-17 00:08:00|   42038724|                Y|Invicta Men's 505...|          5|            0|          0|   N|\n",
            "|2015-01-11 00:08:00|    1594613|                Y|Swiss Legend Men'...|          5|            0|          0|   N|\n",
            "|2010-01-13 00:05:00|   45986458|                Y|Invicta Women's 3...|          4|            1|          1|   N|\n",
            "|2015-01-22 00:01:00|   41579481|                Y|Hadley Roma MS834...|          4|            0|          0|   N|\n",
            "|2015-01-10 00:03:00|   44657888|                Y|Geneva Platinum W...|          1|            0|          0|   N|\n",
            "|2014-01-12 00:03:00|   13461149|                Y|Compact Watch Bra...|          5|            1|          1|   N|\n",
            "|2014-01-28 00:05:00|   39172276|                Y|Seiko Men's SGG71...|          5|            1|          1|   N|\n",
            "|2013-01-23 00:01:00|   33679768|                Y|Roberto Bianci Me...|          5|            0|          0|   N|\n",
            "|2012-01-18 00:12:00|   13174936|                Y|Watch Band Rubber...|          5|            0|          0|   N|\n",
            "|2015-01-05 00:06:00|    4550966|                Y|Timex Women's T5K...|          5|            0|          0|   N|\n",
            "|2013-01-08 00:12:00|   17574505|                Y|Batman Kids' BAT9...|          5|            0|          0|   N|\n",
            "|2015-01-03 00:02:00|    2688548|                Y|DKNY Women's NY21...|          5|            0|          0|   N|\n",
            "+-------------------+-----------+-----------------+--------------------+-----------+-------------+-----------+----+\n",
            "only showing top 20 rows\n",
            "\n"
          ]
        }
      ],
      "source": [
        "\n",
        "df_analysis = df_watch.select([\"review_date\",\"customer_id\", \"verified_purchase\", \"product_title\",\"star_rating\",\"helpful_votes\",\"total_votes\", \"vine\"])\n",
        "df_analysis.show()"
      ]
    },
    {
      "cell_type": "code",
      "execution_count": 11,
      "metadata": {
        "colab": {
          "base_uri": "https://localhost:8080/"
        },
        "id": "jQ872tMq62Yy",
        "outputId": "80b48be4-fbfb-4352-d63a-94c29568abe9"
      },
      "outputs": [
        {
          "name": "stdout",
          "output_type": "stream",
          "text": [
            "Summary statistics for all\n",
            "+-------+------------------+------------------+-----------------+\n",
            "|summary|       star_rating|     helpful_votes|      total_votes|\n",
            "+-------+------------------+------------------+-----------------+\n",
            "|  count|            960679|            960679|           960679|\n",
            "|   mean|4.1382480516384765|1.1959103925452728|1.560124661827728|\n",
            "| stddev|1.2932883558454442| 8.160239197449105|9.067823957832323|\n",
            "|    min|                 1|                 0|                0|\n",
            "|    max|                 5|              4004|             4249|\n",
            "+-------+------------------+------------------+-----------------+\n",
            "\n"
          ]
        }
      ],
      "source": [
        "summary_df_analysis = df_analysis.select([\"star_rating\",\"helpful_votes\",\"total_votes\"]).describe()\n",
        "\n",
        "print(\"Summary statistics for all\")\n",
        "summary_df_analysis.show()\n"
      ]
    },
    {
      "cell_type": "code",
      "execution_count": 24,
      "metadata": {
        "colab": {
          "base_uri": "https://localhost:8080/"
        },
        "id": "IYvpUp8VxCVD",
        "outputId": "6be33cf0-8be6-47bf-b831-3b315161eb2f"
      },
      "outputs": [
        {
          "data": {
            "text/plain": [
              "571493"
            ]
          },
          "execution_count": 24,
          "metadata": {},
          "output_type": "execute_result"
        }
      ],
      "source": [
        "five_star_only = df_analysis[df_analysis['star_rating'] == 5].count()\n",
        "five_star_only"
      ]
    },
    {
      "cell_type": "code",
      "execution_count": 26,
      "metadata": {
        "colab": {
          "base_uri": "https://localhost:8080/"
        },
        "id": "8iY3k5DayR5m",
        "outputId": "0b55d0b9-9ae6-4853-c399-0963765d14b6"
      },
      "outputs": [
        {
          "data": {
            "text/plain": [
              "960679"
            ]
          },
          "execution_count": 26,
          "metadata": {},
          "output_type": "execute_result"
        }
      ],
      "source": [
        "all_votes = df_analysis.count()\n",
        "all_votes"
      ]
    },
    {
      "cell_type": "code",
      "execution_count": 27,
      "metadata": {
        "colab": {
          "base_uri": "https://localhost:8080/"
        },
        "id": "LXMMiQy0yR2H",
        "outputId": "7df2eb77-c861-423e-c748-5a6b2382dda6"
      },
      "outputs": [
        {
          "name": "stdout",
          "output_type": "stream",
          "text": [
            "59.488445151814496\n"
          ]
        }
      ],
      "source": [
        "# Pecentage of five-star reviews\n",
        "print((five_star_only/all_votes)*100)"
      ]
    },
    {
      "cell_type": "markdown",
      "metadata": {
        "id": "_IeweKyUAO2O"
      },
      "source": [
        "###Vine Members Only"
      ]
    },
    {
      "cell_type": "code",
      "execution_count": 13,
      "metadata": {
        "colab": {
          "base_uri": "https://localhost:8080/"
        },
        "id": "wYA7f2eq7DxD",
        "outputId": "705eb33c-c425-46bc-d1be-525a26feccac"
      },
      "outputs": [
        {
          "name": "stdout",
          "output_type": "stream",
          "text": [
            "+-------------------+-----------+-----------------+--------------------+-----------+-------------+-----------+----+\n",
            "|        review_date|customer_id|verified_purchase|       product_title|star_rating|helpful_votes|total_votes|vine|\n",
            "+-------------------+-----------+-----------------+--------------------+-----------+-------------+-----------+----+\n",
            "|2015-01-14 00:04:00|   16436797|                N|kate spade new yo...|          4|            0|          1|   Y|\n",
            "|2015-01-03 00:04:00|   51553681|                N|kate spade new yo...|          4|            0|          1|   Y|\n",
            "|2014-01-10 00:06:00|   18995994|                N|Casio Men's STB-1...|          4|            0|          0|   Y|\n",
            "|2013-01-27 00:06:00|   38548391|                N|Invicta Men's 143...|          4|            4|          6|   Y|\n",
            "|2012-01-12 00:01:00|   52752630|                N|Invicta Men's 146...|          5|            0|          0|   Y|\n",
            "|2011-01-28 00:10:00|   38226380|                N|Invicta Men's 124...|          5|            1|          2|   Y|\n",
            "|2011-01-20 00:09:00|   36651192|                N|Invicta Men's 144...|          5|            2|          3|   Y|\n",
            "|2011-01-28 00:08:00|   50102538|                N|Breda Women's 229...|          4|            0|          1|   Y|\n",
            "|2015-01-28 00:03:00|   37239429|                N|kate spade new yo...|          5|            2|          3|   Y|\n",
            "|2015-01-12 00:01:00|   18378753|                N|kate spade new yo...|          5|            0|          1|   Y|\n",
            "|2014-01-15 00:05:00|   31595683|                N|Armitron Men's 20...|          5|            0|          0|   Y|\n",
            "|2011-01-20 00:12:00|   49507117|                N|Invicta Men's 153...|          3|            3|          4|   Y|\n",
            "|2011-01-03 00:12:00|   28986146|                N|Invicta Men's 146...|          5|            1|          3|   Y|\n",
            "|2011-01-21 00:09:00|   14343478|                N|Invicta Men's 146...|          2|            3|          8|   Y|\n",
            "|2011-01-22 00:06:00|   43330348|                N|Invicta Women's 0...|          5|            3|          4|   Y|\n",
            "|2015-01-11 00:04:00|   53091377|                N|kate spade new yo...|          5|            2|          2|   Y|\n",
            "|2015-01-10 00:04:00|   49082354|                N|kate spade new yo...|          5|            0|          0|   Y|\n",
            "|2013-01-23 00:05:00|   42247018|                N|Invicta Men's 143...|          4|           27|         30|   Y|\n",
            "|2012-01-03 00:01:00|   49266466|                N|Invicta Men's 110...|          3|            0|          0|   Y|\n",
            "|2011-01-20 00:09:00|   52894480|                N|Invicta Men's 148...|          3|            0|          1|   Y|\n",
            "+-------------------+-----------+-----------------+--------------------+-----------+-------------+-----------+----+\n",
            "only showing top 20 rows\n",
            "\n"
          ]
        }
      ],
      "source": [
        "from pyspark.sql.functions import col\n",
        "\n",
        "vine_df_analysis = df_analysis.filter(col(\"vine\")  == \"Y\")\n",
        "vine_df_analysis.show()\n"
      ]
    },
    {
      "cell_type": "code",
      "execution_count": 14,
      "metadata": {
        "colab": {
          "base_uri": "https://localhost:8080/"
        },
        "id": "JT68sKlE72lJ",
        "outputId": "2179d4bb-358b-43b9-a065-19dbf3b8263a"
      },
      "outputs": [
        {
          "name": "stdout",
          "output_type": "stream",
          "text": [
            "Summary statistics for vine customers\n",
            "+-------+------------------+------------------+-----------------+\n",
            "|summary|       star_rating|     helpful_votes|      total_votes|\n",
            "+-------+------------------+------------------+-----------------+\n",
            "|  count|              1747|              1747|             1747|\n",
            "|   mean| 4.034344590726961|2.8580423583285635|3.712077847738981|\n",
            "| stddev|0.9366959934006919|11.039313131908232|12.01083357759813|\n",
            "|    min|                 1|                 0|                0|\n",
            "|    max|                 5|               349|              370|\n",
            "+-------+------------------+------------------+-----------------+\n",
            "\n"
          ]
        }
      ],
      "source": [
        "summary_vine_df_analysis = vine_df_analysis.select([\"star_rating\",\"helpful_votes\",\"total_votes\"]).describe()\n",
        "\n",
        "print(\"Summary statistics for vine customers\")\n",
        "summary_vine_df_analysis.show()"
      ]
    },
    {
      "cell_type": "code",
      "execution_count": 15,
      "metadata": {
        "colab": {
          "base_uri": "https://localhost:8080/"
        },
        "id": "ja0bO9iE-WSo",
        "outputId": "6459cb42-afbe-46e0-e3d6-e5bc2377893a"
      },
      "outputs": [
        {
          "data": {
            "text/plain": [
              "605"
            ]
          },
          "execution_count": 15,
          "metadata": {},
          "output_type": "execute_result"
        }
      ],
      "source": [
        "vine_five_star_only = vine_df_analysis[vine_df_analysis['star_rating'] == 5].count()\n",
        "vine_five_star_only"
      ]
    },
    {
      "cell_type": "code",
      "execution_count": 16,
      "metadata": {
        "colab": {
          "base_uri": "https://localhost:8080/"
        },
        "id": "vbilSp7d-WMV",
        "outputId": "301ae81e-2119-468d-cd27-551085cd75d4"
      },
      "outputs": [
        {
          "data": {
            "text/plain": [
              "1747"
            ]
          },
          "execution_count": 16,
          "metadata": {},
          "output_type": "execute_result"
        }
      ],
      "source": [
        "vine_df_analysis_all = vine_df_analysis.count()\n",
        "vine_df_analysis_all"
      ]
    },
    {
      "cell_type": "code",
      "execution_count": 17,
      "metadata": {
        "colab": {
          "base_uri": "https://localhost:8080/"
        },
        "id": "9rf2rOuh-WF6",
        "outputId": "32bc5190-f0c1-438d-858e-1f7ebefc9d08"
      },
      "outputs": [
        {
          "name": "stdout",
          "output_type": "stream",
          "text": [
            "34.630795649685176\n"
          ]
        }
      ],
      "source": [
        "# Pecentage of five-star reviews in Vine\n",
        "print((vine_five_star_only/vine_df_analysis_all)*100)"
      ]
    },
    {
      "cell_type": "markdown",
      "metadata": {
        "id": "BBPnVqCfAdFl"
      },
      "source": [
        "### Non Vine Members"
      ]
    },
    {
      "cell_type": "code",
      "execution_count": 18,
      "metadata": {
        "colab": {
          "base_uri": "https://localhost:8080/"
        },
        "id": "jOo8Xfdx8aUK",
        "outputId": "7873de49-ad26-466a-e225-912fcfef0bd8"
      },
      "outputs": [
        {
          "name": "stdout",
          "output_type": "stream",
          "text": [
            "+-------------------+-----------+-----------------+--------------------+-----------+-------------+-----------+----+\n",
            "|        review_date|customer_id|verified_purchase|       product_title|star_rating|helpful_votes|total_votes|vine|\n",
            "+-------------------+-----------+-----------------+--------------------+-----------+-------------+-----------+----+\n",
            "|2014-01-22 00:05:00|   15688375|                Y|Rip Curl Men's A1...|          2|            0|          1|   N|\n",
            "|2014-01-16 00:06:00|   21739087|                Y|Casio Men's Sport...|          5|            0|          0|   N|\n",
            "|2015-01-26 00:02:00|    2501262|                Y|Invicta Men's 901...|          5|            0|          0|   N|\n",
            "|2014-01-30 00:12:00|   16842563|                Y|U.S. Polo Assn. C...|          5|            0|          0|   N|\n",
            "|2009-01-27 00:01:00|   52130705|                N|Invicta Men's 524...|          4|            0|          0|   N|\n",
            "|2014-01-27 00:11:00|   41518340|                Y|Rudiger Men's R20...|          1|            0|          0|   N|\n",
            "|2011-01-02 00:09:00|   48845798|                Y|Invicta Women's 0...|          4|            1|          1|   N|\n",
            "|2012-01-16 00:12:00|   50381801|                Y|Fossil Men's Blue...|          5|            0|          0|   N|\n",
            "|2013-01-17 00:08:00|   42038724|                Y|Invicta Men's 505...|          5|            0|          0|   N|\n",
            "|2015-01-11 00:08:00|    1594613|                Y|Swiss Legend Men'...|          5|            0|          0|   N|\n",
            "|2010-01-13 00:05:00|   45986458|                Y|Invicta Women's 3...|          4|            1|          1|   N|\n",
            "|2015-01-22 00:01:00|   41579481|                Y|Hadley Roma MS834...|          4|            0|          0|   N|\n",
            "|2015-01-10 00:03:00|   44657888|                Y|Geneva Platinum W...|          1|            0|          0|   N|\n",
            "|2014-01-12 00:03:00|   13461149|                Y|Compact Watch Bra...|          5|            1|          1|   N|\n",
            "|2014-01-28 00:05:00|   39172276|                Y|Seiko Men's SGG71...|          5|            1|          1|   N|\n",
            "|2013-01-23 00:01:00|   33679768|                Y|Roberto Bianci Me...|          5|            0|          0|   N|\n",
            "|2012-01-18 00:12:00|   13174936|                Y|Watch Band Rubber...|          5|            0|          0|   N|\n",
            "|2015-01-05 00:06:00|    4550966|                Y|Timex Women's T5K...|          5|            0|          0|   N|\n",
            "|2013-01-08 00:12:00|   17574505|                Y|Batman Kids' BAT9...|          5|            0|          0|   N|\n",
            "|2015-01-03 00:02:00|    2688548|                Y|DKNY Women's NY21...|          5|            0|          0|   N|\n",
            "+-------------------+-----------+-----------------+--------------------+-----------+-------------+-----------+----+\n",
            "only showing top 20 rows\n",
            "\n"
          ]
        }
      ],
      "source": [
        "notvine_df_analysis = df_analysis.filter(col(\"vine\")  == \"N\")\n",
        "notvine_df_analysis.show()"
      ]
    },
    {
      "cell_type": "code",
      "execution_count": 19,
      "metadata": {
        "colab": {
          "base_uri": "https://localhost:8080/"
        },
        "id": "pKwleNtz9G6s",
        "outputId": "71709b08-36ca-418f-90e6-1f738201e317"
      },
      "outputs": [
        {
          "name": "stdout",
          "output_type": "stream",
          "text": [
            "Summary statistics for not-vine customers\n",
            "+-------+------------------+------------------+-----------------+\n",
            "|summary|       star_rating|     helpful_votes|      total_votes|\n",
            "+-------+------------------+------------------+-----------------+\n",
            "|  count|            958932|            958932|           958932|\n",
            "|   mean| 4.138437344879512|1.1928822898808258|1.556204193832305|\n",
            "| stddev|1.2938410587847071| 8.153765015489014|9.061132029872722|\n",
            "|    min|                 1|                 0|                0|\n",
            "|    max|                 5|              4004|             4249|\n",
            "+-------+------------------+------------------+-----------------+\n",
            "\n"
          ]
        }
      ],
      "source": [
        "summary_notvine_df_analysis = notvine_df_analysis.select([\"star_rating\",\"helpful_votes\",\"total_votes\"]).describe()\n",
        "\n",
        "print(\"Summary statistics for not-vine customers\")\n",
        "summary_notvine_df_analysis.show()"
      ]
    },
    {
      "cell_type": "code",
      "execution_count": 20,
      "metadata": {
        "colab": {
          "base_uri": "https://localhost:8080/"
        },
        "id": "cUkFD35E9QUt",
        "outputId": "1372d22d-f36c-4345-cc7c-adeddf2fd221"
      },
      "outputs": [
        {
          "data": {
            "text/plain": [
              "570888"
            ]
          },
          "execution_count": 20,
          "metadata": {},
          "output_type": "execute_result"
        }
      ],
      "source": [
        "notvine_five_star_only = notvine_df_analysis[notvine_df_analysis['star_rating'] == 5].count()\n",
        "notvine_five_star_only"
      ]
    },
    {
      "cell_type": "code",
      "execution_count": 21,
      "metadata": {
        "colab": {
          "base_uri": "https://localhost:8080/"
        },
        "id": "g722gRZq_qRH",
        "outputId": "9784ebf6-3133-44c5-e22b-94a596384116"
      },
      "outputs": [
        {
          "data": {
            "text/plain": [
              "958932"
            ]
          },
          "execution_count": 21,
          "metadata": {},
          "output_type": "execute_result"
        }
      ],
      "source": [
        "notvine_df_analysis_all = notvine_df_analysis.count()\n",
        "notvine_df_analysis_all"
      ]
    },
    {
      "cell_type": "code",
      "execution_count": 22,
      "metadata": {
        "colab": {
          "base_uri": "https://localhost:8080/"
        },
        "id": "NyDzqGE4_2tr",
        "outputId": "319effc8-aff9-498e-e74b-13b4de058cb7"
      },
      "outputs": [
        {
          "name": "stdout",
          "output_type": "stream",
          "text": [
            "59.5337312760446\n"
          ]
        }
      ],
      "source": [
        "# Pecentage of five-star reviews in Not - Vine\n",
        "print((notvine_five_star_only/notvine_df_analysis_all)*100)"
      ]
    }
  ],
  "metadata": {
    "colab": {
      "provenance": []
    },
    "kernelspec": {
      "display_name": "Python 3.9.12 ('base')",
      "language": "python",
      "name": "python3"
    },
    "language_info": {
      "codemirror_mode": {
        "name": "ipython",
        "version": 3
      },
      "file_extension": ".py",
      "mimetype": "text/x-python",
      "name": "python",
      "nbconvert_exporter": "python",
      "pygments_lexer": "ipython3",
      "version": "3.9.12"
    },
    "vscode": {
      "interpreter": {
        "hash": "52f52a60c7780b161f8e1c9ec059755be15c847cd3a7f760d4600d2329cf1cec"
      }
    }
  },
  "nbformat": 4,
  "nbformat_minor": 0
}
